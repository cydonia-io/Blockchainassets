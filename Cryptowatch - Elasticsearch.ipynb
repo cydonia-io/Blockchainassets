{
 "cells": [
  {
   "cell_type": "code",
   "execution_count": 1,
   "metadata": {
    "ExecuteTime": {
     "end_time": "2020-01-14T03:58:41.557824Z",
     "start_time": "2020-01-14T03:58:40.761325Z"
    }
   },
   "outputs": [],
   "source": [
    "import json, time\n",
    "from websocket import create_connection\n",
    "from elasticsearch import Elasticsearch\n",
    "cs = Elasticsearch(\"http://localhost:9200\")"
   ]
  },
  {
   "cell_type": "code",
   "execution_count": null,
   "metadata": {
    "ExecuteTime": {
     "start_time": "2020-01-14T03:58:43.214Z"
    }
   },
   "outputs": [
    {
     "name": "stdout",
     "output_type": "stream",
     "text": [
      "Resultado '7610.54' 1578974329.743985\n",
      "Resultado '7604.5' 1578974329.8586931\n",
      "Resultado '7610.54' 1578974330.3730485\n",
      "Resultado '7601.1' 1578974330.9192116\n",
      "Resultado '7610.4' 1578974333.0092003\n",
      "Resultado '7610.4' 1578974336.7146413\n",
      "Resultado '7605.11' 1578974337.4512405\n",
      "Resultado '7610.2' 1578974340.7363112\n",
      "Resultado '7610.54' 1578974341.0560699\n",
      "Resultado '7610.14' 1578974346.7146378\n",
      "Resultado '7610.2' 1578974350.5281167\n",
      "Resultado '7607.63' 1578974350.6897976\n",
      "Resultado '7610.14' 1578974351.7504041\n",
      "Resultado '7602.3' 1578974356.720468\n",
      "Resultado '7617.76' 1578974357.0542402\n",
      "Resultado '7610.2' 1578974359.6038213\n",
      "Resultado '7602.6' 1578974362.1268132\n",
      "Resultado '7610.1' 1578974362.6954463\n",
      "Resultado '7610.1' 1578974366.7155552\n",
      "Resultado '7609.96' 1578974366.8158739\n",
      "Resultado '7600.81' 1578974366.937799\n",
      "Resultado '7550' 1578974372.048788\n",
      "Resultado '7604.8' 1578974376.719179\n",
      "Resultado '7604.8' 1578974376.8171206\n",
      "Resultado '7604.8' 1578974386.8741283\n",
      "Resultado '7604.9' 1578974387.5025482\n",
      "Resultado '7607.21' 1578974389.382476\n",
      "Resultado '7609.54' 1578974390.3649228\n",
      "Resultado '7608.2' 1578974396.7146122\n",
      "Resultado '7600.71' 1578974396.9278839\n",
      "Resultado '7608.3' 1578974397.0959094\n",
      "Resultado '7595.9' 1578974399.1298687\n",
      "Resultado '7598.97' 1578974399.4765317\n",
      "Resultado '7608.2' 1578974399.5509493\n",
      "Resultado '7608.1' 1578974400.9241078\n",
      "Resultado '7605.2' 1578974403.7153914\n",
      "Resultado '7607.2' 1578974407.1053078\n",
      "Resultado '7607.8' 1578974407.3281727\n",
      "Resultado '7599.83' 1578974407.4381032\n",
      "Resultado '7550' 1578974410.6861606\n",
      "Resultado '7607.21' 1578974410.7629936\n",
      "Resultado '7608.4' 1578974412.5343335\n",
      "Resultado '7595.8' 1578974416.712938\n",
      "Resultado '7610.75' 1578974416.8708475\n",
      "Resultado '7607' 1578974419.1658475\n",
      "Resultado '7607.6' 1578974423.5338483\n",
      "Resultado '7609.21' 1578974426.7140746\n",
      "Resultado '7614.12' 1578974427.0662959\n",
      "Resultado '7607.7' 1578974427.2191334\n",
      "Resultado '7604.81' 1578974427.3695624\n",
      "Resultado '7607.6' 1578974429.7189758\n",
      "Resultado '7595.9' 1578974430.530347\n",
      "Resultado '7609.99' 1578974433.0694773\n",
      "Resultado '7607.7' 1578974436.7110808\n",
      "Resultado '7607.8' 1578974437.0383472\n"
     ]
    }
   ],
   "source": [
    "\n",
    "\n",
    "for i in range(3):\n",
    "    try:\n",
    "        #En la documentacion oficial, para consumir el Socket, solo nos pide usar la clave publica\n",
    "        ws = create_connection(\"wss://stream.cryptowat.ch/connect?apikey=0B9Q9W3QR6C7H9Y4VVWD\")\n",
    "    except Exception as error:\n",
    "        print('Error de conexion: ' + repr(error))\n",
    "        time.sleep(3)\n",
    "    else:\n",
    "        break\n",
    "\n",
    "#Enviamos la petición, que datos queremos.\n",
    "#Ejemplo trae el precio actual de BTC EUR\n",
    "ws.send(json.dumps(\n",
    "{\n",
    "    \"subscribe\": \n",
    "    {\n",
    "        \"subscriptions\": \n",
    "        [{\n",
    "            \"streamSubscription\":\n",
    "            {\n",
    "                \"resource\": \"instruments:232:trades\"\n",
    "            }\n",
    "        }]\n",
    "    }\n",
    "}))\n",
    "\n",
    "#Seccion para recibir los datos\n",
    "while True:\n",
    "    try:\n",
    "        result = ws.recv()\n",
    "        result = json.loads(result)\n",
    "        print (\"Resultado '%s'\" % result[\"marketUpdate\"][\"tradesUpdate\"][\"trades\"][0][\"priceStr\"],time.time())\n",
    "        #En esta linea puede puede ir el comando SQL o cualquier metodo para guardar los datos\n",
    "        precio = result[\"marketUpdate\"][\"tradesUpdate\"][\"trades\"][0][\"priceStr\"]\n",
    "        res = cs.search(index=\"currency\", body={\"query\":{\"match_all\":{}}})\n",
    "        count = (res[\"hits\"][\"total\"][\"value\"])\n",
    "        count = count + 1\n",
    "        doc1 = {\"Moneda\":\"BTCEUR\",\"Precio\":precio}\n",
    "        cs.index(index=\"currency\", doc_type=\"monedas\", id=count, body=doc1)\n",
    "    except:\n",
    "        #print('Buscando nuevo marketUpdate: ' + repr(error))\n",
    "        time.sleep(3)\n",
    "\n",
    "ws.close()"
   ]
  },
  {
   "cell_type": "code",
   "execution_count": null,
   "metadata": {},
   "outputs": [],
   "source": []
  }
 ],
 "metadata": {
  "kernelspec": {
   "display_name": "Python 3",
   "language": "python",
   "name": "python3"
  },
  "language_info": {
   "codemirror_mode": {
    "name": "ipython",
    "version": 3
   },
   "file_extension": ".py",
   "mimetype": "text/x-python",
   "name": "python",
   "nbconvert_exporter": "python",
   "pygments_lexer": "ipython3",
   "version": "3.8.1"
  }
 },
 "nbformat": 4,
 "nbformat_minor": 2
}
