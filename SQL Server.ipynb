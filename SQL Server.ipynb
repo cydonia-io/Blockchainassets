{
 "cells": [
  {
   "cell_type": "code",
   "execution_count": 25,
   "metadata": {},
   "outputs": [],
   "source": [
    "import pyodbc"
   ]
  },
  {
   "cell_type": "code",
   "execution_count": 29,
   "metadata": {},
   "outputs": [
    {
     "name": "stdout",
     "output_type": "stream",
     "text": [
      "Conexión a SQL Server realizado\n"
     ]
    }
   ],
   "source": [
    "try:\n",
    "    conn = pyodbc.connect(\n",
    "    \"Driver={SQL Server Native Client 11.0};\"\n",
    "    \"Server=DESKTOP-HINHMAO\\SQLEXPRESS;\"\n",
    "    \"Database=BasePython;\"\n",
    "    \"Trusted_Connection=yes;\"\n",
    "    )\n",
    "    print(\"Conexión a SQL Server realizado\")\n",
    "except:\n",
    "    print(\"Error al conectar a SQL Server\")\n"
   ]
  },
  {
   "cell_type": "code",
   "execution_count": 30,
   "metadata": {},
   "outputs": [],
   "source": [
    "cursor = conn.cursor()"
   ]
  },
  {
   "cell_type": "code",
   "execution_count": 43,
   "metadata": {},
   "outputs": [
    {
     "name": "stdout",
     "output_type": "stream",
     "text": [
      "(1, 'EUR', '23')\n",
      "(2, 'EUR', '23')\n",
      "(3, 'DLR', '23')\n"
     ]
    }
   ],
   "source": [
    "cursor.execute(\"SELECT * FROM dbo.prueba\")\n",
    "\n",
    "for row in cursor:\n",
    "    print(row)"
   ]
  },
  {
   "cell_type": "code",
   "execution_count": 35,
   "metadata": {},
   "outputs": [
    {
     "name": "stdout",
     "output_type": "stream",
     "text": [
      "Insertar\n",
      "Filas insertadas\n"
     ]
    }
   ],
   "source": [
    "print(\"Insertar\")\n",
    "cursor = conn.cursor()\n",
    "try:\n",
    "    cursor.execute(\"insert into dbo.prueba (id, currency, price) values(3,'DLR','23')\")\n",
    "    print(\"Filas insertadas\")\n",
    "except:\n",
    "    print(\"Error al insertar\")"
   ]
  },
  {
   "cell_type": "code",
   "execution_count": 44,
   "metadata": {},
   "outputs": [],
   "source": [
    "import fxcmpy"
   ]
  },
  {
   "cell_type": "code",
   "execution_count": 45,
   "metadata": {},
   "outputs": [],
   "source": [
    "con = fxcmpy.fxcmpy(access_token='e4191dcc0126d9c2559296e2501d74c5e1362395', log_level='error')"
   ]
  },
  {
   "cell_type": "code",
   "execution_count": 52,
   "metadata": {},
   "outputs": [
    {
     "name": "stdout",
     "output_type": "stream",
     "text": [
      "['EUR/USD', 'USD/JPY', 'GBP/USD']\n"
     ]
    }
   ],
   "source": [
    "instruments = con.get_instruments()\n",
    "print(instruments[:3]) \n"
   ]
  },
  {
   "cell_type": "code",
   "execution_count": 55,
   "metadata": {},
   "outputs": [
    {
     "name": "stdout",
     "output_type": "stream",
     "text": [
      "['EUR/USD']\n"
     ]
    }
   ],
   "source": [
    "dato = instruments[:1]\n",
    "print (dato)"
   ]
  },
  {
   "cell_type": "code",
   "execution_count": null,
   "metadata": {},
   "outputs": [],
   "source": [
    "cursor = conn.cursor()\n",
    "try:\n",
    "    cursor.execute(\"insert into dbo.prueba (id, currency, price) values(3,'DLR','23')\")\n",
    "    print(\"Filas insertadas\")\n",
    "except:\n",
    "    print(\"Error al insertar\")"
   ]
  }
 ],
 "metadata": {
  "kernelspec": {
   "display_name": "Python 3",
   "language": "python",
   "name": "python3"
  },
  "language_info": {
   "codemirror_mode": {
    "name": "ipython",
    "version": 3
   },
   "file_extension": ".py",
   "mimetype": "text/x-python",
   "name": "python",
   "nbconvert_exporter": "python",
   "pygments_lexer": "ipython3",
   "version": "3.8.1"
  }
 },
 "nbformat": 4,
 "nbformat_minor": 2
}
