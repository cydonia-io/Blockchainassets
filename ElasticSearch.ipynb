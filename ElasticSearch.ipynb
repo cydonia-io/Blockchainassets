{
 "cells": [
  {
   "cell_type": "code",
   "execution_count": 1,
   "metadata": {
    "ExecuteTime": {
     "end_time": "2020-01-14T03:57:46.986037Z",
     "start_time": "2020-01-14T03:57:46.482497Z"
    }
   },
   "outputs": [],
   "source": [
    "from elasticsearch import Elasticsearch\n",
    "cs = Elasticsearch(\"http://localhost:9200\")"
   ]
  },
  {
   "cell_type": "code",
   "execution_count": 3,
   "metadata": {
    "ExecuteTime": {
     "end_time": "2020-01-14T03:58:11.475669Z",
     "start_time": "2020-01-14T03:58:11.254804Z"
    }
   },
   "outputs": [
    {
     "data": {
      "text/plain": [
       "{'_index': 'currency',\n",
       " '_type': 'monedas',\n",
       " '_id': '14',\n",
       " '_version': 1,\n",
       " 'result': 'created',\n",
       " '_shards': {'total': 2, 'successful': 1, 'failed': 0},\n",
       " '_seq_no': 23,\n",
       " '_primary_term': 1}"
      ]
     },
     "execution_count": 3,
     "metadata": {},
     "output_type": "execute_result"
    }
   ],
   "source": [
    "doc1 = {\"Moneda\":\"BTCEUR\",\"Precio\":9.12}\n",
    "cs.index(index=\"currency\", doc_type=\"monedas\", id=14, body=doc1) "
   ]
  },
  {
   "cell_type": "code",
   "execution_count": 8,
   "metadata": {
    "ExecuteTime": {
     "end_time": "2020-01-14T02:36:45.860511Z",
     "start_time": "2020-01-14T02:36:45.849518Z"
    }
   },
   "outputs": [
    {
     "name": "stdout",
     "output_type": "stream",
     "text": [
      "{'_index': 'currency', '_type': 'monedas', '_id': '2', '_version': 1, '_seq_no': 3, '_primary_term': 1, 'found': True, '_source': {'Moneda': 'EUR', 'Precio': '7.004'}}\n"
     ]
    }
   ],
   "source": [
    "res = cs.get(index=\"currency\",doc_type=\"monedas\", id=2)\n",
    "print(res)"
   ]
  },
  {
   "cell_type": "code",
   "execution_count": 2,
   "metadata": {
    "ExecuteTime": {
     "end_time": "2020-01-14T03:57:51.081562Z",
     "start_time": "2020-01-14T03:57:51.058575Z"
    }
   },
   "outputs": [
    {
     "name": "stdout",
     "output_type": "stream",
     "text": [
      "14\n",
      "{'took': 0, 'timed_out': False, '_shards': {'total': 1, 'successful': 1, 'skipped': 0, 'failed': 0}, 'hits': {'total': {'value': 13, 'relation': 'eq'}, 'max_score': 1.0, 'hits': [{'_index': 'currency', '_type': 'monedas', '_id': '1', '_score': 1.0, '_source': {'Moneda': 'BTCEUR', 'Precio': '7.014'}}, {'_index': 'currency', '_type': 'monedas', '_id': '2', '_score': 1.0, '_source': {'Moneda': 'BTCEUR', 'Precio': '7.024'}}, {'_index': 'currency', '_type': 'monedas', '_id': '8', '_score': 1.0, '_source': {'Moneda': 'BTCEUR', 'Precio': '7540.33'}}, {'_index': 'currency', '_type': 'monedas', '_id': '9', '_score': 1.0, '_source': {'Moneda': 'BTCEUR', 'Precio': '7537.91'}}, {'_index': 'currency', '_type': 'monedas', '_id': '4', '_score': 1.0, '_source': {'Moneda': 'BTCEUR', 'Precio': '7526.8'}}, {'_index': 'currency', '_type': 'monedas', '_id': '5', '_score': 1.0, '_source': {'Moneda': 'BTCEUR', 'Precio': '7543.1'}}, {'_index': 'currency', '_type': 'monedas', '_id': '6', '_score': 1.0, '_source': {'Moneda': 'BTCEUR', 'Precio': '7526.8'}}, {'_index': 'currency', '_type': 'monedas', '_id': '7', '_score': 1.0, '_source': {'Moneda': 'BTCEUR', 'Precio': '7543.1'}}, {'_index': 'currency', '_type': 'monedas', '_id': '11', '_score': 1.0, '_source': {'Moneda': 'BTCEUR', 'Precio': '7543.8'}}, {'_index': 'currency', '_type': 'monedas', '_id': '10', '_score': 1.0, '_source': {'Moneda': 'BTCEUR', 'Precio': '7542'}}]}}\n"
     ]
    }
   ],
   "source": [
    "res = cs.search(index=\"currency\", body={\"query\":{\"match_all\":{}}})\n",
    "count = (res[\"hits\"][\"total\"][\"value\"])\n",
    "count = count + 1\n",
    "print(count)\n",
    "print(res)"
   ]
  },
  {
   "cell_type": "code",
   "execution_count": null,
   "metadata": {},
   "outputs": [],
   "source": []
  }
 ],
 "metadata": {
  "kernelspec": {
   "display_name": "Python 3",
   "language": "python",
   "name": "python3"
  },
  "language_info": {
   "codemirror_mode": {
    "name": "ipython",
    "version": 3
   },
   "file_extension": ".py",
   "mimetype": "text/x-python",
   "name": "python",
   "nbconvert_exporter": "python",
   "pygments_lexer": "ipython3",
   "version": "3.8.1"
  }
 },
 "nbformat": 4,
 "nbformat_minor": 2
}
