{
 "cells": [
  {
   "cell_type": "code",
   "execution_count": 1,
   "metadata": {
    "ExecuteTime": {
     "end_time": "2020-01-04T00:23:35.871701Z",
     "start_time": "2020-01-04T00:23:34.406918Z"
    }
   },
   "outputs": [],
   "source": [
    "import fxcmpy\n",
    "import datetime as dt"
   ]
  },
  {
   "cell_type": "code",
   "execution_count": 4,
   "metadata": {
    "ExecuteTime": {
     "end_time": "2020-01-04T00:31:24.372765Z",
     "start_time": "2020-01-04T00:31:23.331662Z"
    }
   },
   "outputs": [
    {
     "name": "stderr",
     "output_type": "stream",
     "text": [
      "|ERROR|2020-01-03 18:31:23,713|Socket returns an error: ('Connection aborted.', OSError(\"(10054, 'WSAECONNRESET')\")).\n"
     ]
    },
    {
     "ename": "ServerError",
     "evalue": "Can not connect to FXCM Server.",
     "output_type": "error",
     "traceback": [
      "\u001b[1;31m---------------------------------------------------------------------------\u001b[0m",
      "\u001b[1;31mServerError\u001b[0m                               Traceback (most recent call last)",
      "\u001b[1;32m<ipython-input-4-b295e39a1e4e>\u001b[0m in \u001b[0;36m<module>\u001b[1;34m\u001b[0m\n\u001b[1;32m----> 1\u001b[1;33m \u001b[0mcon\u001b[0m \u001b[1;33m=\u001b[0m \u001b[0mfxcmpy\u001b[0m\u001b[1;33m.\u001b[0m\u001b[0mfxcmpy\u001b[0m\u001b[1;33m(\u001b[0m\u001b[0maccess_token\u001b[0m\u001b[1;33m=\u001b[0m\u001b[1;34m'e4191dcc0126d9c2559296e2501d74c5e1362395'\u001b[0m\u001b[1;33m,\u001b[0m \u001b[0mlog_level\u001b[0m\u001b[1;33m=\u001b[0m\u001b[1;34m'error'\u001b[0m\u001b[1;33m)\u001b[0m\u001b[1;33m\u001b[0m\u001b[1;33m\u001b[0m\u001b[0m\n\u001b[0m",
      "\u001b[1;32mc:\\python\\lib\\site-packages\\fxcmpy\\fxcmpy.py\u001b[0m in \u001b[0;36m__init__\u001b[1;34m(self, access_token, config_file, log_file, log_level, server, proxy_url, proxy_port, proxy_type)\u001b[0m\n\u001b[0;32m    215\u001b[0m             \u001b[1;32mraise\u001b[0m \u001b[0mServerError\u001b[0m\u001b[1;33m(\u001b[0m\u001b[1;34m'Can not find FXCM Server.'\u001b[0m\u001b[1;33m)\u001b[0m\u001b[1;33m\u001b[0m\u001b[1;33m\u001b[0m\u001b[0m\n\u001b[0;32m    216\u001b[0m         \u001b[1;32melif\u001b[0m \u001b[0mself\u001b[0m\u001b[1;33m.\u001b[0m\u001b[0mconnection_status\u001b[0m \u001b[1;33m==\u001b[0m \u001b[1;34m'aborted'\u001b[0m\u001b[1;33m:\u001b[0m\u001b[1;33m\u001b[0m\u001b[1;33m\u001b[0m\u001b[0m\n\u001b[1;32m--> 217\u001b[1;33m             \u001b[1;32mraise\u001b[0m \u001b[0mServerError\u001b[0m\u001b[1;33m(\u001b[0m\u001b[1;34m'Can not connect to FXCM Server.'\u001b[0m\u001b[1;33m)\u001b[0m\u001b[1;33m\u001b[0m\u001b[1;33m\u001b[0m\u001b[0m\n\u001b[0m\u001b[0;32m    218\u001b[0m \u001b[1;33m\u001b[0m\u001b[0m\n\u001b[0;32m    219\u001b[0m         \u001b[0mself\u001b[0m\u001b[1;33m.\u001b[0m\u001b[0m__collect_account_ids__\u001b[0m\u001b[1;33m(\u001b[0m\u001b[1;33m)\u001b[0m\u001b[1;33m\u001b[0m\u001b[1;33m\u001b[0m\u001b[0m\n",
      "\u001b[1;31mServerError\u001b[0m: Can not connect to FXCM Server."
     ]
    }
   ],
   "source": [
    "con = fxcmpy.fxcmpy(access_token='e4191dcc0126d9c2559296e2501d74c5e1362395', log_level='error')"
   ]
  },
  {
   "cell_type": "code",
   "execution_count": 3,
   "metadata": {
    "ExecuteTime": {
     "end_time": "2020-01-04T00:31:19.766666Z",
     "start_time": "2020-01-04T00:31:19.748676Z"
    },
    "scrolled": true
   },
   "outputs": [
    {
     "ename": "NameError",
     "evalue": "name 'con' is not defined",
     "output_type": "error",
     "traceback": [
      "\u001b[1;31m---------------------------------------------------------------------------\u001b[0m",
      "\u001b[1;31mNameError\u001b[0m                                 Traceback (most recent call last)",
      "\u001b[1;32m<ipython-input-3-87a379051576>\u001b[0m in \u001b[0;36m<module>\u001b[1;34m\u001b[0m\n\u001b[1;32m----> 1\u001b[1;33m \u001b[0mprint\u001b[0m\u001b[1;33m(\u001b[0m\u001b[0mcon\u001b[0m\u001b[1;33m.\u001b[0m\u001b[0mget_instruments\u001b[0m\u001b[1;33m(\u001b[0m\u001b[1;33m)\u001b[0m\u001b[1;33m)\u001b[0m\u001b[1;33m\u001b[0m\u001b[1;33m\u001b[0m\u001b[0m\n\u001b[0m",
      "\u001b[1;31mNameError\u001b[0m: name 'con' is not defined"
     ]
    }
   ],
   "source": [
    "print(con.get_instruments())"
   ]
  },
  {
   "cell_type": "code",
   "execution_count": 6,
   "metadata": {
    "ExecuteTime": {
     "end_time": "2020-01-01T02:51:15.204242Z",
     "start_time": "2020-01-01T02:51:14.514388Z"
    }
   },
   "outputs": [
    {
     "data": {
      "text/html": [
       "<div>\n",
       "<style scoped>\n",
       "    .dataframe tbody tr th:only-of-type {\n",
       "        vertical-align: middle;\n",
       "    }\n",
       "\n",
       "    .dataframe tbody tr th {\n",
       "        vertical-align: top;\n",
       "    }\n",
       "\n",
       "    .dataframe thead th {\n",
       "        text-align: right;\n",
       "    }\n",
       "</style>\n",
       "<table border=\"1\" class=\"dataframe\">\n",
       "  <thead>\n",
       "    <tr style=\"text-align: right;\">\n",
       "      <th></th>\n",
       "      <th>bidopen</th>\n",
       "      <th>bidclose</th>\n",
       "      <th>bidhigh</th>\n",
       "      <th>bidlow</th>\n",
       "      <th>askopen</th>\n",
       "      <th>askclose</th>\n",
       "      <th>askhigh</th>\n",
       "      <th>asklow</th>\n",
       "      <th>tickqty</th>\n",
       "    </tr>\n",
       "    <tr>\n",
       "      <th>date</th>\n",
       "      <th></th>\n",
       "      <th></th>\n",
       "      <th></th>\n",
       "      <th></th>\n",
       "      <th></th>\n",
       "      <th></th>\n",
       "      <th></th>\n",
       "      <th></th>\n",
       "      <th></th>\n",
       "    </tr>\n",
       "  </thead>\n",
       "  <tbody>\n",
       "    <tr>\n",
       "      <th>2019-12-31 14:52:00</th>\n",
       "      <td>1.12204</td>\n",
       "      <td>1.12204</td>\n",
       "      <td>1.12205</td>\n",
       "      <td>1.12190</td>\n",
       "      <td>1.12215</td>\n",
       "      <td>1.12216</td>\n",
       "      <td>1.12217</td>\n",
       "      <td>1.12201</td>\n",
       "      <td>291</td>\n",
       "    </tr>\n",
       "    <tr>\n",
       "      <th>2019-12-31 14:53:00</th>\n",
       "      <td>1.12205</td>\n",
       "      <td>1.12217</td>\n",
       "      <td>1.12222</td>\n",
       "      <td>1.12205</td>\n",
       "      <td>1.12217</td>\n",
       "      <td>1.12228</td>\n",
       "      <td>1.12235</td>\n",
       "      <td>1.12217</td>\n",
       "      <td>240</td>\n",
       "    </tr>\n",
       "    <tr>\n",
       "      <th>2019-12-31 14:54:00</th>\n",
       "      <td>1.12217</td>\n",
       "      <td>1.12205</td>\n",
       "      <td>1.12220</td>\n",
       "      <td>1.12205</td>\n",
       "      <td>1.12228</td>\n",
       "      <td>1.12217</td>\n",
       "      <td>1.12233</td>\n",
       "      <td>1.12217</td>\n",
       "      <td>187</td>\n",
       "    </tr>\n",
       "    <tr>\n",
       "      <th>2019-12-31 14:55:00</th>\n",
       "      <td>1.12205</td>\n",
       "      <td>1.12227</td>\n",
       "      <td>1.12236</td>\n",
       "      <td>1.12205</td>\n",
       "      <td>1.12217</td>\n",
       "      <td>1.12239</td>\n",
       "      <td>1.12248</td>\n",
       "      <td>1.12217</td>\n",
       "      <td>260</td>\n",
       "    </tr>\n",
       "    <tr>\n",
       "      <th>2019-12-31 14:56:00</th>\n",
       "      <td>1.12227</td>\n",
       "      <td>1.12223</td>\n",
       "      <td>1.12232</td>\n",
       "      <td>1.12216</td>\n",
       "      <td>1.12239</td>\n",
       "      <td>1.12233</td>\n",
       "      <td>1.12242</td>\n",
       "      <td>1.12228</td>\n",
       "      <td>138</td>\n",
       "    </tr>\n",
       "  </tbody>\n",
       "</table>\n",
       "</div>"
      ],
      "text/plain": [
       "                     bidopen  bidclose  bidhigh   bidlow  askopen  askclose  \\\n",
       "date                                                                          \n",
       "2019-12-31 14:52:00  1.12204   1.12204  1.12205  1.12190  1.12215   1.12216   \n",
       "2019-12-31 14:53:00  1.12205   1.12217  1.12222  1.12205  1.12217   1.12228   \n",
       "2019-12-31 14:54:00  1.12217   1.12205  1.12220  1.12205  1.12228   1.12217   \n",
       "2019-12-31 14:55:00  1.12205   1.12227  1.12236  1.12205  1.12217   1.12239   \n",
       "2019-12-31 14:56:00  1.12227   1.12223  1.12232  1.12216  1.12239   1.12233   \n",
       "\n",
       "                     askhigh   asklow  tickqty  \n",
       "date                                            \n",
       "2019-12-31 14:52:00  1.12217  1.12201      291  \n",
       "2019-12-31 14:53:00  1.12235  1.12217      240  \n",
       "2019-12-31 14:54:00  1.12233  1.12217      187  \n",
       "2019-12-31 14:55:00  1.12248  1.12217      260  \n",
       "2019-12-31 14:56:00  1.12242  1.12228      138  "
      ]
     },
     "execution_count": 6,
     "metadata": {},
     "output_type": "execute_result"
    }
   ],
   "source": [
    "data = con.get_candles('EUR/USD', period='m1', number=250)\n",
    "data.head()"
   ]
  },
  {
   "cell_type": "code",
   "execution_count": 5,
   "metadata": {},
   "outputs": [
    {
     "data": {
      "text/html": [
       "<div>\n",
       "<style scoped>\n",
       "    .dataframe tbody tr th:only-of-type {\n",
       "        vertical-align: middle;\n",
       "    }\n",
       "\n",
       "    .dataframe tbody tr th {\n",
       "        vertical-align: top;\n",
       "    }\n",
       "\n",
       "    .dataframe thead th {\n",
       "        text-align: right;\n",
       "    }\n",
       "</style>\n",
       "<table border=\"1\" class=\"dataframe\">\n",
       "  <thead>\n",
       "    <tr style=\"text-align: right;\">\n",
       "      <th></th>\n",
       "      <th>bidopen</th>\n",
       "      <th>bidclose</th>\n",
       "      <th>bidhigh</th>\n",
       "      <th>bidlow</th>\n",
       "      <th>askopen</th>\n",
       "      <th>askclose</th>\n",
       "      <th>askhigh</th>\n",
       "      <th>asklow</th>\n",
       "      <th>tickqty</th>\n",
       "    </tr>\n",
       "    <tr>\n",
       "      <th>date</th>\n",
       "      <th></th>\n",
       "      <th></th>\n",
       "      <th></th>\n",
       "      <th></th>\n",
       "      <th></th>\n",
       "      <th></th>\n",
       "      <th></th>\n",
       "      <th></th>\n",
       "      <th></th>\n",
       "    </tr>\n",
       "  </thead>\n",
       "  <tbody>\n",
       "    <tr>\n",
       "      <th>2019-12-27 21:55:00</th>\n",
       "      <td>1.11754</td>\n",
       "      <td>1.11754</td>\n",
       "      <td>1.11756</td>\n",
       "      <td>1.11752</td>\n",
       "      <td>1.11773</td>\n",
       "      <td>1.11772</td>\n",
       "      <td>1.11776</td>\n",
       "      <td>1.11769</td>\n",
       "      <td>109</td>\n",
       "    </tr>\n",
       "    <tr>\n",
       "      <th>2019-12-27 21:56:00</th>\n",
       "      <td>1.11754</td>\n",
       "      <td>1.11754</td>\n",
       "      <td>1.11757</td>\n",
       "      <td>1.11753</td>\n",
       "      <td>1.11772</td>\n",
       "      <td>1.11773</td>\n",
       "      <td>1.11776</td>\n",
       "      <td>1.11772</td>\n",
       "      <td>136</td>\n",
       "    </tr>\n",
       "    <tr>\n",
       "      <th>2019-12-27 21:57:00</th>\n",
       "      <td>1.11754</td>\n",
       "      <td>1.11754</td>\n",
       "      <td>1.11756</td>\n",
       "      <td>1.11750</td>\n",
       "      <td>1.11773</td>\n",
       "      <td>1.11772</td>\n",
       "      <td>1.11775</td>\n",
       "      <td>1.11768</td>\n",
       "      <td>130</td>\n",
       "    </tr>\n",
       "    <tr>\n",
       "      <th>2019-12-27 21:58:00</th>\n",
       "      <td>1.11754</td>\n",
       "      <td>1.11756</td>\n",
       "      <td>1.11758</td>\n",
       "      <td>1.11750</td>\n",
       "      <td>1.11772</td>\n",
       "      <td>1.11775</td>\n",
       "      <td>1.11778</td>\n",
       "      <td>1.11769</td>\n",
       "      <td>186</td>\n",
       "    </tr>\n",
       "    <tr>\n",
       "      <th>2019-12-28 02:59:00</th>\n",
       "      <td>1.11756</td>\n",
       "      <td>1.11749</td>\n",
       "      <td>1.11756</td>\n",
       "      <td>1.11725</td>\n",
       "      <td>1.11774</td>\n",
       "      <td>1.11787</td>\n",
       "      <td>1.11787</td>\n",
       "      <td>1.11774</td>\n",
       "      <td>8</td>\n",
       "    </tr>\n",
       "  </tbody>\n",
       "</table>\n",
       "</div>"
      ],
      "text/plain": [
       "                     bidopen  bidclose  bidhigh   bidlow  askopen  askclose  \\\n",
       "date                                                                          \n",
       "2019-12-27 21:55:00  1.11754   1.11754  1.11756  1.11752  1.11773   1.11772   \n",
       "2019-12-27 21:56:00  1.11754   1.11754  1.11757  1.11753  1.11772   1.11773   \n",
       "2019-12-27 21:57:00  1.11754   1.11754  1.11756  1.11750  1.11773   1.11772   \n",
       "2019-12-27 21:58:00  1.11754   1.11756  1.11758  1.11750  1.11772   1.11775   \n",
       "2019-12-28 02:59:00  1.11756   1.11749  1.11756  1.11725  1.11774   1.11787   \n",
       "\n",
       "                     askhigh   asklow  tickqty  \n",
       "date                                            \n",
       "2019-12-27 21:55:00  1.11776  1.11769      109  \n",
       "2019-12-27 21:56:00  1.11776  1.11772      136  \n",
       "2019-12-27 21:57:00  1.11775  1.11768      130  \n",
       "2019-12-27 21:58:00  1.11778  1.11769      186  \n",
       "2019-12-28 02:59:00  1.11787  1.11774        8  "
      ]
     },
     "execution_count": 5,
     "metadata": {},
     "output_type": "execute_result"
    }
   ],
   "source": [
    "data.tail()"
   ]
  },
  {
   "cell_type": "code",
   "execution_count": 6,
   "metadata": {},
   "outputs": [],
   "source": [
    "from pylab import plt\n",
    "plt.style.use('seaborn')\n",
    "%matplotlib inline"
   ]
  },
  {
   "cell_type": "code",
   "execution_count": 11,
   "metadata": {},
   "outputs": [
    {
     "data": {
      "image/png": "[encoded data removed]",
      "text/plain": [
       "<Figure size 720x432 with 1 Axes>"
      ]
     },
     "metadata": {
      "needs_background": "light"
     },
     "output_type": "display_data"
    }
   ],
   "source": [
    "data['askclose'].plot(figsize=(10, 6));"
   ]
  },
  {
   "cell_type": "code",
   "execution_count": 14,
   "metadata": {},
   "outputs": [
    {
     "data": {
      "text/html": [
       "<div>\n",
       "<style scoped>\n",
       "    .dataframe tbody tr th:only-of-type {\n",
       "        vertical-align: middle;\n",
       "    }\n",
       "\n",
       "    .dataframe tbody tr th {\n",
       "        vertical-align: top;\n",
       "    }\n",
       "\n",
       "    .dataframe thead th {\n",
       "        text-align: right;\n",
       "    }\n",
       "</style>\n",
       "<table border=\"1\" class=\"dataframe\">\n",
       "  <thead>\n",
       "    <tr style=\"text-align: right;\">\n",
       "      <th></th>\n",
       "      <th>bidopen</th>\n",
       "      <th>bidclose</th>\n",
       "      <th>bidhigh</th>\n",
       "      <th>bidlow</th>\n",
       "      <th>askopen</th>\n",
       "      <th>askclose</th>\n",
       "      <th>askhigh</th>\n",
       "      <th>asklow</th>\n",
       "      <th>tickqty</th>\n",
       "    </tr>\n",
       "    <tr>\n",
       "      <th>date</th>\n",
       "      <th></th>\n",
       "      <th></th>\n",
       "      <th></th>\n",
       "      <th></th>\n",
       "      <th></th>\n",
       "      <th></th>\n",
       "      <th></th>\n",
       "      <th></th>\n",
       "      <th></th>\n",
       "    </tr>\n",
       "  </thead>\n",
       "  <tbody>\n",
       "    <tr>\n",
       "      <th>2019-06-30 21:00:00</th>\n",
       "      <td>1.13595</td>\n",
       "      <td>1.10741</td>\n",
       "      <td>1.13705</td>\n",
       "      <td>1.10595</td>\n",
       "      <td>1.13617</td>\n",
       "      <td>1.10759</td>\n",
       "      <td>1.13718</td>\n",
       "      <td>1.10608</td>\n",
       "      <td>3791669</td>\n",
       "    </tr>\n",
       "    <tr>\n",
       "      <th>2019-07-31 21:00:00</th>\n",
       "      <td>1.10741</td>\n",
       "      <td>1.09869</td>\n",
       "      <td>1.12490</td>\n",
       "      <td>1.09624</td>\n",
       "      <td>1.10759</td>\n",
       "      <td>1.09931</td>\n",
       "      <td>1.12502</td>\n",
       "      <td>1.09636</td>\n",
       "      <td>5071384</td>\n",
       "    </tr>\n",
       "    <tr>\n",
       "      <th>2019-08-31 21:00:00</th>\n",
       "      <td>1.09869</td>\n",
       "      <td>1.08966</td>\n",
       "      <td>1.11090</td>\n",
       "      <td>1.08842</td>\n",
       "      <td>1.09931</td>\n",
       "      <td>1.09002</td>\n",
       "      <td>1.11102</td>\n",
       "      <td>1.08853</td>\n",
       "      <td>3934047</td>\n",
       "    </tr>\n",
       "    <tr>\n",
       "      <th>2019-09-30 21:00:00</th>\n",
       "      <td>1.08966</td>\n",
       "      <td>1.11506</td>\n",
       "      <td>1.11789</td>\n",
       "      <td>1.08785</td>\n",
       "      <td>1.09002</td>\n",
       "      <td>1.11543</td>\n",
       "      <td>1.11801</td>\n",
       "      <td>1.08797</td>\n",
       "      <td>3959843</td>\n",
       "    </tr>\n",
       "    <tr>\n",
       "      <th>2019-10-31 21:00:00</th>\n",
       "      <td>1.11506</td>\n",
       "      <td>1.10148</td>\n",
       "      <td>1.11749</td>\n",
       "      <td>1.09806</td>\n",
       "      <td>1.11543</td>\n",
       "      <td>1.10211</td>\n",
       "      <td>1.11761</td>\n",
       "      <td>1.09817</td>\n",
       "      <td>2829313</td>\n",
       "    </tr>\n",
       "  </tbody>\n",
       "</table>\n",
       "</div>"
      ],
      "text/plain": [
       "                     bidopen  bidclose  bidhigh   bidlow  askopen  askclose  \\\n",
       "date                                                                          \n",
       "2019-06-30 21:00:00  1.13595   1.10741  1.13705  1.10595  1.13617   1.10759   \n",
       "2019-07-31 21:00:00  1.10741   1.09869  1.12490  1.09624  1.10759   1.09931   \n",
       "2019-08-31 21:00:00  1.09869   1.08966  1.11090  1.08842  1.09931   1.09002   \n",
       "2019-09-30 21:00:00  1.08966   1.11506  1.11789  1.08785  1.09002   1.11543   \n",
       "2019-10-31 21:00:00  1.11506   1.10148  1.11749  1.09806  1.11543   1.10211   \n",
       "\n",
       "                     askhigh   asklow  tickqty  \n",
       "date                                            \n",
       "2019-06-30 21:00:00  1.13718  1.10608  3791669  \n",
       "2019-07-31 21:00:00  1.12502  1.09636  5071384  \n",
       "2019-08-31 21:00:00  1.11102  1.08853  3934047  \n",
       "2019-09-30 21:00:00  1.11801  1.08797  3959843  \n",
       "2019-10-31 21:00:00  1.11761  1.09817  2829313  "
      ]
     },
     "execution_count": 14,
     "metadata": {},
     "output_type": "execute_result"
    }
   ],
   "source": [
    "start = dt.datetime(2019,6,28)\n",
    "end = dt.datetime(2019, 12, 1)\n",
    "con.get_candles('EUR/USD', period='M1',\n",
    "                start=start, end=end)"
   ]
  },
  {
   "cell_type": "code",
   "execution_count": 7,
   "metadata": {},
   "outputs": [],
   "source": [
    "from fxcmpy import fxcmpy_candles_data_reader as cdr"
   ]
  },
  {
   "cell_type": "code",
   "execution_count": 8,
   "metadata": {},
   "outputs": [],
   "source": [
    "start = dt.datetime(2019, 6, 28)\n",
    "end = dt.datetime(2019, 12, 1)"
   ]
  },
  {
   "cell_type": "code",
   "execution_count": 9,
   "metadata": {},
   "outputs": [],
   "source": [
    "period = 'm1'"
   ]
  },
  {
   "cell_type": "code",
   "execution_count": 10,
   "metadata": {},
   "outputs": [
    {
     "name": "stdout",
     "output_type": "stream",
     "text": [
      "Fetching data from: https://candledata.fxcorporate.com/m1/EURUSD/2019/26.csv.gz\n",
      "Fetching data from: https://candledata.fxcorporate.com/m1/EURUSD/2019/27.csv.gz\n",
      "Fetching data from: https://candledata.fxcorporate.com/m1/EURUSD/2019/28.csv.gz\n",
      "Fetching data from: https://candledata.fxcorporate.com/m1/EURUSD/2019/29.csv.gz\n",
      "Fetching data from: https://candledata.fxcorporate.com/m1/EURUSD/2019/30.csv.gz\n",
      "Fetching data from: https://candledata.fxcorporate.com/m1/EURUSD/2019/31.csv.gz\n",
      "Fetching data from: https://candledata.fxcorporate.com/m1/EURUSD/2019/32.csv.gz\n",
      "Fetching data from: https://candledata.fxcorporate.com/m1/EURUSD/2019/33.csv.gz\n",
      "Fetching data from: https://candledata.fxcorporate.com/m1/EURUSD/2019/34.csv.gz\n",
      "Fetching data from: https://candledata.fxcorporate.com/m1/EURUSD/2019/35.csv.gz\n",
      "Fetching data from: https://candledata.fxcorporate.com/m1/EURUSD/2019/36.csv.gz\n",
      "Fetching data from: https://candledata.fxcorporate.com/m1/EURUSD/2019/37.csv.gz\n",
      "Fetching data from: https://candledata.fxcorporate.com/m1/EURUSD/2019/38.csv.gz\n",
      "Fetching data from: https://candledata.fxcorporate.com/m1/EURUSD/2019/39.csv.gz\n",
      "Fetching data from: https://candledata.fxcorporate.com/m1/EURUSD/2019/40.csv.gz\n",
      "Fetching data from: https://candledata.fxcorporate.com/m1/EURUSD/2019/41.csv.gz\n",
      "Fetching data from: https://candledata.fxcorporate.com/m1/EURUSD/2019/42.csv.gz\n",
      "Fetching data from: https://candledata.fxcorporate.com/m1/EURUSD/2019/43.csv.gz\n",
      "Fetching data from: https://candledata.fxcorporate.com/m1/EURUSD/2019/44.csv.gz\n",
      "Fetching data from: https://candledata.fxcorporate.com/m1/EURUSD/2019/45.csv.gz\n",
      "Fetching data from: https://candledata.fxcorporate.com/m1/EURUSD/2019/46.csv.gz\n",
      "Fetching data from: https://candledata.fxcorporate.com/m1/EURUSD/2019/47.csv.gz\n",
      "Fetching data from: https://candledata.fxcorporate.com/m1/EURUSD/2019/48.csv.gz\n"
     ]
    }
   ],
   "source": [
    "candles = cdr('EURUSD', start, end, period, verbosity=True)"
   ]
  },
  {
   "cell_type": "code",
   "execution_count": 20,
   "metadata": {},
   "outputs": [
    {
     "data": {
      "text/html": [
       "<div>\n",
       "<style scoped>\n",
       "    .dataframe tbody tr th:only-of-type {\n",
       "        vertical-align: middle;\n",
       "    }\n",
       "\n",
       "    .dataframe tbody tr th {\n",
       "        vertical-align: top;\n",
       "    }\n",
       "\n",
       "    .dataframe thead th {\n",
       "        text-align: right;\n",
       "    }\n",
       "</style>\n",
       "<table border=\"1\" class=\"dataframe\">\n",
       "  <thead>\n",
       "    <tr style=\"text-align: right;\">\n",
       "      <th></th>\n",
       "      <th>BidOpen</th>\n",
       "      <th>BidHigh</th>\n",
       "      <th>BidLow</th>\n",
       "      <th>BidClose</th>\n",
       "      <th>AskOpen</th>\n",
       "      <th>AskHigh</th>\n",
       "      <th>AskLow</th>\n",
       "      <th>AskClose</th>\n",
       "    </tr>\n",
       "    <tr>\n",
       "      <th>DateTime</th>\n",
       "      <th></th>\n",
       "      <th></th>\n",
       "      <th></th>\n",
       "      <th></th>\n",
       "      <th></th>\n",
       "      <th></th>\n",
       "      <th></th>\n",
       "      <th></th>\n",
       "    </tr>\n",
       "  </thead>\n",
       "  <tbody>\n",
       "    <tr>\n",
       "      <th>06/23/2019 21:00:00.000</th>\n",
       "      <td>1.13698</td>\n",
       "      <td>1.137</td>\n",
       "      <td>1.13698</td>\n",
       "      <td>1.137</td>\n",
       "      <td>1.13731</td>\n",
       "      <td>1.1374</td>\n",
       "      <td>1.13731</td>\n",
       "      <td>1.13735</td>\n",
       "    </tr>\n",
       "  </tbody>\n",
       "</table>\n",
       "</div>"
      ],
      "text/plain": [
       "                         BidOpen  BidHigh   BidLow  BidClose  AskOpen  \\\n",
       "DateTime                                                                \n",
       "06/23/2019 21:00:00.000  1.13698    1.137  1.13698     1.137  1.13731   \n",
       "\n",
       "                         AskHigh   AskLow  AskClose  \n",
       "DateTime                                             \n",
       "06/23/2019 21:00:00.000   1.1374  1.13731   1.13735  "
      ]
     },
     "execution_count": 20,
     "metadata": {},
     "output_type": "execute_result"
    }
   ],
   "source": [
    "raw_data = candles.get_raw_data()\n",
    "raw_data.head(1)"
   ]
  },
  {
   "cell_type": "code",
   "execution_count": 21,
   "metadata": {},
   "outputs": [],
   "source": [
    "from fxcmpy import fxcmpy_tick_data_reader as tdr"
   ]
  },
  {
   "cell_type": "code",
   "execution_count": 28,
   "metadata": {},
   "outputs": [
    {
     "name": "stdout",
     "output_type": "stream",
     "text": [
      "('AUDCAD', 'AUDCHF', 'AUDJPY', 'AUDNZD', 'CADCHF', 'EURAUD', 'EURCHF', 'EURGBP', 'EURJPY', 'EURUSD', 'GBPCHF', 'GBPJPY', 'GBPNZD', 'GBPUSD', 'GBPCHF', 'GBPJPY', 'GBPNZD', 'NZDCAD', 'NZDCHF', 'NZDJPY', 'NZDUSD', 'USDCAD', 'USDCHF', 'USDJPY')\n"
     ]
    }
   ],
   "source": [
    "print(tdr.get_available_symbols())"
   ]
  },
  {
   "cell_type": "code",
   "execution_count": 29,
   "metadata": {},
   "outputs": [],
   "source": [
    "symbol = tdr.get_available_symbols()"
   ]
  },
  {
   "cell_type": "code",
   "execution_count": null,
   "metadata": {},
   "outputs": [],
   "source": []
  }
 ],
 "metadata": {
  "kernelspec": {
   "display_name": "Python 3",
   "language": "python",
   "name": "python3"
  },
  "language_info": {
   "codemirror_mode": {
    "name": "ipython",
    "version": 3
   },
   "file_extension": ".py",
   "mimetype": "text/x-python",
   "name": "python",
   "nbconvert_exporter": "python",
   "pygments_lexer": "ipython3",
   "version": "3.8.1"
  }
 },
 "nbformat": 4,
 "nbformat_minor": 2
}
