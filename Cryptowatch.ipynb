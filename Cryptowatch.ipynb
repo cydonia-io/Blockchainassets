{
 "cells": [
  {
   "cell_type": "code",
   "execution_count": 1,
   "metadata": {
    "ExecuteTime": {
     "end_time": "2020-01-11T03:04:21.557772Z",
     "start_time": "2020-01-11T03:04:17.361324Z"
    }
   },
   "outputs": [
    {
     "name": "stdout",
     "output_type": "stream",
     "text": [
      "{'result': {'id': 86, 'exchange': 'kraken', 'pair': 'btceur', 'active': True, 'routes': {'price': 'https://api.cryptowat.ch/markets/kraken/btceur/price', 'summary': 'https://api.cryptowat.ch/markets/kraken/btceur/summary', 'orderbook': 'https://api.cryptowat.ch/markets/kraken/btceur/orderbook', 'trades': 'https://api.cryptowat.ch/markets/kraken/btceur/trades', 'ohlc': 'https://api.cryptowat.ch/markets/kraken/btceur/ohlc'}}, 'allowance': {'cost': 80482, 'remaining': 3999919518, 'remainingPaid': 0, 'upgrade': 'Upgrade for a higher allowance, starting at $15/month for 16 seconds/hour. https://cryptowat.ch/pricing'}}\n"
     ]
    }
   ],
   "source": [
    "import requests\n",
    "import json\n",
    "\n",
    "r = requests.get(\"https://api.cryptowat.ch/markets/kraken/btceur\")\n",
    "if r.status_code == 200:\n",
    "    data = r.json()\n",
    "    print(data)"
   ]
  },
  {
   "cell_type": "code",
   "execution_count": 6,
   "metadata": {
    "ExecuteTime": {
     "end_time": "2020-01-11T03:09:11.366030Z",
     "start_time": "2020-01-11T03:09:10.889541Z"
    }
   },
   "outputs": [
    {
     "name": "stdout",
     "output_type": "stream",
     "text": [
      "Par: 'https://api.cryptowat.ch/markets/kraken/btceur/price'\n",
      "{'result': {'price': 7343.5}, 'allowance': {'cost': 1294961, 'remaining': 3994330752, 'remainingPaid': 0, 'upgrade': 'Upgrade for a higher allowance, starting at $15/month for 16 seconds/hour. https://cryptowat.ch/pricing'}}\n"
     ]
    }
   ],
   "source": [
    "#Imprimir solo result\n",
    "#print(data[\"result\"])\n",
    "#Imprimir de Result Pair y Si esta activo\n",
    "#print(\"-------------------------------------\")\n",
    "print(\"Par: '%s'\"% data[\"result\"][\"routes\"][\"price\"])\n",
    "\n",
    "price = requests.get(data[\"result\"][\"routes\"][\"price\"])\n",
    "if price.status_code == 200:\n",
    "    data = price.json()\n",
    "    print(data)\n"
   ]
  },
  {
   "cell_type": "code",
   "execution_count": null,
   "metadata": {
    "ExecuteTime": {
     "start_time": "2020-01-11T02:58:04.232Z"
    }
   },
   "outputs": [],
   "source": [
    "import json, time\n",
    "from websocket import create_connection\n",
    "\n",
    "for i in range(3):\n",
    "    try:\n",
    "        #En la documentacion oficial, para consumir el Socket, solo nos pide usar la clave publica\n",
    "        ws = create_connection(\"wss://stream.cryptowat.ch/connect?apikey=0B9Q9W3QR6C7H9Y4VVWD\")\n",
    "    except Exception as error:\n",
    "        print('Error de conexion: ' + repr(error))\n",
    "        time.sleep(3)\n",
    "    else:\n",
    "        break\n",
    "\n",
    "#Enviamos la petición, que datos queremos.\n",
    "#Ejemplo trae el precio actual de BTC EUR\n",
    "ws.send(json.dumps(\n",
    "{\n",
    "    \"subscribe\": \n",
    "    {\n",
    "        \"subscriptions\": \n",
    "        [{\n",
    "            \"streamSubscription\":\n",
    "            {\n",
    "                \"resource\": \"instruments:232:trades\"\n",
    "            }\n",
    "        }]\n",
    "    }\n",
    "}))\n",
    "\n",
    "#Seccion para recibir los datos\n",
    "while True:\n",
    "    try:\n",
    "        result = ws.recv()\n",
    "        result = json.loads(result)\n",
    "        print (\"Resultado '%s'\" % result[\"marketUpdate\"][\"tradesUpdate\"][\"trades\"][0][\"priceStr\"],time.time())\n",
    "        #En esta linea puede puede ir el comando SQL o cualquier metodo para guardar los datos\n",
    "    except:\n",
    "        #print('Buscando nuevo marketUpdate: ' + repr(error))\n",
    "        time.sleep(3)\n",
    "\n",
    "ws.close()"
   ]
  },
  {
   "cell_type": "code",
   "execution_count": null,
   "metadata": {},
   "outputs": [],
   "source": []
  }
 ],
 "metadata": {
  "kernelspec": {
   "display_name": "Python 3",
   "language": "python",
   "name": "python3"
  },
  "language_info": {
   "codemirror_mode": {
    "name": "ipython",
    "version": 3
   },
   "file_extension": ".py",
   "mimetype": "text/x-python",
   "name": "python",
   "nbconvert_exporter": "python",
   "pygments_lexer": "ipython3",
   "version": "3.8.1"
  }
 },
 "nbformat": 4,
 "nbformat_minor": 2
}
