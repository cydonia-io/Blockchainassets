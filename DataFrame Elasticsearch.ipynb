{
 "cells": [
  {
   "cell_type": "code",
   "execution_count": 6,
   "metadata": {
    "ExecuteTime": {
     "end_time": "2020-01-29T16:05:54.429449Z",
     "start_time": "2020-01-29T16:05:54.418458Z"
    }
   },
   "outputs": [],
   "source": [
    "import json, time, pandas, requests\n",
    "from datetime import datetime\n",
    "from elasticsearch import Elasticsearch\n",
    "import pandas as pd\n",
    "import matplotlib.pyplot as plt\n",
    "\n",
    "#Conexion Elastic Cloud\n",
    "cs = Elasticsearch([\"https://772081bee548459ba192da5a032f028e.us-east-1.aws.found.io:9243/\"],http_auth=('elastic', 'UsJKCawkc9jsjh5cbRYOATvo'))"
   ]
  },
  {
   "cell_type": "code",
   "execution_count": 7,
   "metadata": {
    "ExecuteTime": {
     "end_time": "2020-01-29T16:06:47.728127Z",
     "start_time": "2020-01-29T16:05:59.536116Z"
    }
   },
   "outputs": [],
   "source": [
    "#Creamos un DataFrame para guardar los datos de Elasticsearch\n",
    "mydf = pd.DataFrame(columns=('timestamp','exchange','pair','bidprice','bid_amount','ask_amount','ask_price'))\n",
    "\n",
    "#Buscamos la cantidad de datos en Elasticsearch\n",
    "count_value = cs.search(index=\"orderbooks-markets-spread\", body={\"query\":{\"match_all\":{}}})\n",
    "count = (count_value[\"hits\"][\"total\"][\"value\"])\n",
    "#print(count)\n",
    "#Por defecto, la consulta de registros a Elasticseach solo nos arroja 10\n",
    "#coun nos da la cantidad completa de registros que hay y se la pasamos a size\n",
    "logs_index = \"orderbooks-markets-spread\"\n",
    "my_query={}\n",
    "#Consulta a Elasticsearch\n",
    "data = cs.search(index=logs_index, body=my_query, size=count)\n",
    "\n",
    "#Tarda aprox 40 segundos, son 10,000 registros\n",
    "for iteration in range(count):\n",
    "    bid_price = data[\"hits\"][\"hits\"][iteration][\"_source\"][\"bid_price\"]\n",
    "    bid_amount = data[\"hits\"][\"hits\"][iteration][\"_source\"][\"bid_amount\"]\n",
    "    ask_price = data[\"hits\"][\"hits\"][iteration][\"_source\"][\"ask_price\"]\n",
    "    ask_amount = data[\"hits\"][\"hits\"][iteration][\"_source\"][\"ask_amount\"]\n",
    "    timestamp = data[\"hits\"][\"hits\"][iteration][\"_source\"][\"timestamp\"]\n",
    "    mydf.loc[len(mydf)]=[timestamp,'bitmex','btcusd-perpetual-futures',bid_price,bid_amount,ask_price,ask_amount] \n",
    "\n"
   ]
  },
  {
   "cell_type": "code",
   "execution_count": 8,
   "metadata": {
    "ExecuteTime": {
     "end_time": "2020-01-29T16:06:53.939174Z",
     "start_time": "2020-01-29T16:06:53.899199Z"
    }
   },
   "outputs": [],
   "source": [
    "#Convertimos los tipo de datos para las columnas de dataframe\n",
    "#print(mydf)\n",
    "mydf[['bidprice','bid_amount','ask_amount','ask_price']] = mydf[['bidprice','bid_amount','ask_amount','ask_price']].astype(numeric)\n",
    "mydf['timestamp'] = pd.to_datetime(mydf['timestamp'], format='%Y-%m-%dT%H:%M:%S.%f') "
   ]
  },
  {
   "cell_type": "code",
   "execution_count": 20,
   "metadata": {
    "ExecuteTime": {
     "end_time": "2020-01-29T16:31:23.963056Z",
     "start_time": "2020-01-29T16:31:23.941071Z"
    }
   },
   "outputs": [
    {
     "data": {
      "text/html": [
       "<div>\n",
       "<style scoped>\n",
       "    .dataframe tbody tr th:only-of-type {\n",
       "        vertical-align: middle;\n",
       "    }\n",
       "\n",
       "    .dataframe tbody tr th {\n",
       "        vertical-align: top;\n",
       "    }\n",
       "\n",
       "    .dataframe thead th {\n",
       "        text-align: right;\n",
       "    }\n",
       "</style>\n",
       "<table border=\"1\" class=\"dataframe\">\n",
       "  <thead>\n",
       "    <tr style=\"text-align: right;\">\n",
       "      <th></th>\n",
       "      <th>timestamp</th>\n",
       "      <th>exchange</th>\n",
       "      <th>pair</th>\n",
       "      <th>bidprice</th>\n",
       "      <th>bid_amount</th>\n",
       "      <th>ask_amount</th>\n",
       "      <th>ask_price</th>\n",
       "    </tr>\n",
       "  </thead>\n",
       "  <tbody>\n",
       "    <tr>\n",
       "      <th>0</th>\n",
       "      <td>2020-01-17 05:57:15.196</td>\n",
       "      <td>bitmex</td>\n",
       "      <td>btcusd-perpetual-futures</td>\n",
       "      <td>8872.5</td>\n",
       "      <td>22581.0</td>\n",
       "      <td>8873.0</td>\n",
       "      <td>992408.0</td>\n",
       "    </tr>\n",
       "    <tr>\n",
       "      <th>1</th>\n",
       "      <td>2020-01-17 05:57:15.697</td>\n",
       "      <td>bitmex</td>\n",
       "      <td>btcusd-perpetual-futures</td>\n",
       "      <td>8872.5</td>\n",
       "      <td>572826.0</td>\n",
       "      <td>8873.0</td>\n",
       "      <td>1244716.0</td>\n",
       "    </tr>\n",
       "    <tr>\n",
       "      <th>2</th>\n",
       "      <td>2020-01-17 05:57:12.397</td>\n",
       "      <td>bitmex</td>\n",
       "      <td>btcusd-perpetual-futures</td>\n",
       "      <td>8874.0</td>\n",
       "      <td>372025.0</td>\n",
       "      <td>8874.5</td>\n",
       "      <td>1689027.0</td>\n",
       "    </tr>\n",
       "    <tr>\n",
       "      <th>3</th>\n",
       "      <td>2020-01-17 05:57:13.021</td>\n",
       "      <td>bitmex</td>\n",
       "      <td>btcusd-perpetual-futures</td>\n",
       "      <td>8874.0</td>\n",
       "      <td>552071.0</td>\n",
       "      <td>8874.5</td>\n",
       "      <td>1663566.0</td>\n",
       "    </tr>\n",
       "    <tr>\n",
       "      <th>4</th>\n",
       "      <td>2020-01-17 05:57:13.595</td>\n",
       "      <td>bitmex</td>\n",
       "      <td>btcusd-perpetual-futures</td>\n",
       "      <td>8874.0</td>\n",
       "      <td>145592.0</td>\n",
       "      <td>8874.5</td>\n",
       "      <td>1842808.0</td>\n",
       "    </tr>\n",
       "  </tbody>\n",
       "</table>\n",
       "</div>"
      ],
      "text/plain": [
       "                timestamp exchange                      pair  bidprice  \\\n",
       "0 2020-01-17 05:57:15.196   bitmex  btcusd-perpetual-futures    8872.5   \n",
       "1 2020-01-17 05:57:15.697   bitmex  btcusd-perpetual-futures    8872.5   \n",
       "2 2020-01-17 05:57:12.397   bitmex  btcusd-perpetual-futures    8874.0   \n",
       "3 2020-01-17 05:57:13.021   bitmex  btcusd-perpetual-futures    8874.0   \n",
       "4 2020-01-17 05:57:13.595   bitmex  btcusd-perpetual-futures    8874.0   \n",
       "\n",
       "   bid_amount  ask_amount  ask_price  \n",
       "0     22581.0      8873.0   992408.0  \n",
       "1    572826.0      8873.0  1244716.0  \n",
       "2    372025.0      8874.5  1689027.0  \n",
       "3    552071.0      8874.5  1663566.0  \n",
       "4    145592.0      8874.5  1842808.0  "
      ]
     },
     "execution_count": 20,
     "metadata": {},
     "output_type": "execute_result"
    }
   ],
   "source": [
    "mydf.head()\n",
    "#mydf.dtypes\n"
   ]
  },
  {
   "cell_type": "code",
   "execution_count": 26,
   "metadata": {
    "ExecuteTime": {
     "end_time": "2020-01-29T16:42:42.139244Z",
     "start_time": "2020-01-29T16:42:41.877405Z"
    }
   },
   "outputs": [
    {
     "data": {
      "image/png": "[encoded data removed]",
      "text/plain": [
       "<Figure size 432x288 with 1 Axes>"
      ]
     },
     "metadata": {
      "needs_background": "light"
     },
     "output_type": "display_data"
    }
   ],
   "source": [
    "#mydf.drop(mydf.columns[[0, 7]], axis='columns')\n",
    "#mydf.set_index('timestamp')\n",
    "#mydf.head()\n",
    "\n",
    "my_plot = mydf.plot(\"timestamp\", \"bidprice\",)\n"
   ]
  },
  {
   "cell_type": "code",
   "execution_count": null,
   "metadata": {
    "ExecuteTime": {
     "end_time": "2020-01-29T14:37:43.771175Z",
     "start_time": "2020-01-29T14:37:43.763179Z"
    }
   },
   "outputs": [],
   "source": [
    "#Condiciones \n",
    "x = 2\n",
    "if x > 3 and x < 6:\n",
    "    print (x)\n",
    "else:\n",
    "    print(\"No coindice\")\n",
    "    \n",
    "    "
   ]
  },
  {
   "cell_type": "code",
   "execution_count": null,
   "metadata": {},
   "outputs": [],
   "source": []
  }
 ],
 "metadata": {
  "kernelspec": {
   "display_name": "Python 3",
   "language": "python",
   "name": "python3"
  },
  "language_info": {
   "codemirror_mode": {
    "name": "ipython",
    "version": 3
   },
   "file_extension": ".py",
   "mimetype": "text/x-python",
   "name": "python",
   "nbconvert_exporter": "python",
   "pygments_lexer": "ipython3",
   "version": "3.5.6"
  }
 },
 "nbformat": 4,
 "nbformat_minor": 2
}
