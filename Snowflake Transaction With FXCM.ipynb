{
 "cells": [
  {
   "cell_type": "code",
   "execution_count": 8,
   "metadata": {
    "ExecuteTime": {
     "end_time": "2020-01-08T04:18:08.628100Z",
     "start_time": "2020-01-08T04:18:08.620105Z"
    }
   },
   "outputs": [],
   "source": [
    "#Importamos los conectores para Snowflake y liberias necesarias\n",
    "import snowflake.connector as sf\n",
    "from snowflake.connector import DictCursor\n",
    "import fxcmpy\n",
    "import pandas as pd\n",
    "#import datatime as dt"
   ]
  },
  {
   "cell_type": "code",
   "execution_count": 9,
   "metadata": {
    "ExecuteTime": {
     "end_time": "2020-01-08T04:18:48.406741Z",
     "start_time": "2020-01-08T04:18:11.356872Z"
    }
   },
   "outputs": [],
   "source": [
    "#Cadena de conexión Snowflake\n",
    "username   = 'Blockchainassets'\n",
    "mypassword = 'BonneNouvelle2020'\n",
    "myaccount  = 'iw74759.eu-central-1'\n",
    "warehouse  = 'COMPUTE_WH'\n",
    "database   = 'DEMO_DB'\n",
    "\n",
    "conn = sf.connect(user=username, password = mypassword, account = myaccount)\n",
    "#Función que permite realizar la conexion a la nube de Snowflake y realizar procedimientos sql\n",
    "def execute_query(connection, query):\n",
    "    cursor = connection.cursor()\n",
    "    cursor.execute(query)\n",
    "    cursor.close()\n",
    "    \n",
    "#Conexión al WareHouse y el nombre de la Base de Datos a usar\n",
    "try:\n",
    "    sql = 'use {}'.format(database)\n",
    "    execute_query(conn,sql)\n",
    "    \n",
    "    sql = 'use warehouse {}'.format(warehouse)\n",
    "    execute_query(conn,sql)\n",
    "    \n",
    "    try:   \n",
    "        sql = 'alter warehouse {} resume'.format(warehouse)\n",
    "        execute_query(conn,sql)\n",
    "    except: \n",
    "        pass\n",
    "except Exception as e:\n",
    "    print(e)"
   ]
  },
  {
   "cell_type": "code",
   "execution_count": 6,
   "metadata": {
    "ExecuteTime": {
     "end_time": "2020-01-08T04:12:18.376186Z",
     "start_time": "2020-01-08T04:12:05.403985Z"
    }
   },
   "outputs": [],
   "source": [
    "#Extracción de datos de FXCM\n",
    "#Token para FXCM\n",
    "con = fxcmpy.fxcmpy(access_token='e4191dcc0126d9c2559296e2501d74c5e1362395', log_level='error')\n",
    "#Preparamos los datos y seran 50 registros de datos historicos (Candles)\n",
    "data = con.get_candles('EUR/USD', period='m1', number=50)\n",
    "\n",
    "#Se convierte Datetimeindex a formato normal de date time para la manipulacion de fechas\n",
    "idx = data.index\n",
    "idxtodt = pd.DataFrame({'month':idx})"
   ]
  },
  {
   "cell_type": "code",
   "execution_count": null,
   "metadata": {
    "ExecuteTime": {
     "start_time": "2020-01-08T04:18:54.484Z"
    }
   },
   "outputs": [
    {
     "name": "stdout",
     "output_type": "stream",
     "text": [
      "Error, Operación Cancelada / Rollback / Se ejecutara de nuevo\n"
     ]
    }
   ],
   "source": [
    "#Insert SQL a Snowflake\n",
    "try:\n",
    "    #--- Comienza una función para encapsular los procesos de insertar\n",
    "    def function_insert():\n",
    "        #Comienza la transacción\n",
    "        startbeging = \"begin name t4;\"\n",
    "        #Ejecutamos el Begin antes de realizar los insert into\n",
    "        execute_query(conn, startbeging)\n",
    "        #--- Comienza For (Ciclo para insertar 50 registros)\n",
    "        for index in range(50):\n",
    "            #Pasamos fecha, bidopen, bidclose\n",
    "            sqldate     = idxtodt['month'].loc[index]  \n",
    "            sqlbidopen  = data.iloc[index,0] \n",
    "            sqlbidclose = data.iloc[index,1]\n",
    "            sql = \"insert into DATA_CANDLES (DATE, BIDOPEN, BIDCLOSE) values ('{}','{}','{}')\".format(sqldate, sqlbidopen, sqlbidclose)      \n",
    "            execute_query(conn, sql)\n",
    "        #--- Termina el FOR\n",
    "        \n",
    "        #Al terminar todo los insert ejecutamos el Commit para finalizar la transacción\n",
    "        commit = \"commit;\"\n",
    "        execute_query(conn,commit)\n",
    "        print(\"Operación Exitosa\")\n",
    "    #--- Termina la función_insert \n",
    "    \n",
    "    #Se ejecuta la función y realiza el proceso\n",
    "    function_insert()\n",
    "    \n",
    "except:\n",
    "    #En caso de una incidencia/riesgo se ejecuta el Rollback y se ejecutará de nuevo la función_insert\n",
    "    rollback = \"rollback;\"\n",
    "    execute_query(conn, rollback)\n",
    "    print(\"Error, Operación Cancelada / Rollback / Se ejecutara de nuevo\")\n",
    "    function_insert()\n",
    "\n"
   ]
  },
  {
   "cell_type": "code",
   "execution_count": null,
   "metadata": {
    "ExecuteTime": {
     "end_time": "2020-01-04T00:10:01.303247Z",
     "start_time": "2020-01-04T00:10:00.920485Z"
    }
   },
   "outputs": [],
   "source": [
    "#Consultar datos\n",
    "try:   \n",
    "    #sql consulta\n",
    "    sql = \"select * from DATA_CANDLES\"      \n",
    "    cursor = conn.cursor(DictCursor)\n",
    "    cursor.execute(sql)\n",
    "    for c in cursor: \n",
    "        print(c)\n",
    "        \n",
    "except Exception as e:\n",
    "    print(e)\n",
    "\n",
    " df = pd.read_sql(sql, conn)\n",
    "   # print(df.iloc[0,0])\n",
    "    #df.info()\n",
    "    #print(df.head())"
   ]
  },
  {
   "cell_type": "code",
   "execution_count": null,
   "metadata": {},
   "outputs": [],
   "source": []
  }
 ],
 "metadata": {
  "kernelspec": {
   "display_name": "Python 3",
   "language": "python",
   "name": "python3"
  },
  "language_info": {
   "codemirror_mode": {
    "name": "ipython",
    "version": 3
   },
   "file_extension": ".py",
   "mimetype": "text/x-python",
   "name": "python",
   "nbconvert_exporter": "python",
   "pygments_lexer": "ipython3",
   "version": "3.8.1"
  }
 },
 "nbformat": 4,
 "nbformat_minor": 2
}
