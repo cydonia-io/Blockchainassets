{
 "cells": [
  {
   "cell_type": "code",
   "execution_count": 12,
   "metadata": {},
   "outputs": [],
   "source": [
    "import fxcmpy\n",
    "import datetime as dt"
   ]
  },
  {
   "cell_type": "code",
   "execution_count": 5,
   "metadata": {},
   "outputs": [],
   "source": [
    "api = fxcmpy.fxcmpy(access_token='e4191dcc0126d9c2559296e2501d74c5e1362395', log_level='error')"
   ]
  },
  {
   "cell_type": "code",
   "execution_count": 7,
   "metadata": {},
   "outputs": [],
   "source": [
    "candles = api.get_candles('USD/JPY',period='D1',number=10)"
   ]
  },
  {
   "cell_type": "code",
   "execution_count": 8,
   "metadata": {},
   "outputs": [
    {
     "data": {
      "text/html": [
       "<div>\n",
       "<style scoped>\n",
       "    .dataframe tbody tr th:only-of-type {\n",
       "        vertical-align: middle;\n",
       "    }\n",
       "\n",
       "    .dataframe tbody tr th {\n",
       "        vertical-align: top;\n",
       "    }\n",
       "\n",
       "    .dataframe thead th {\n",
       "        text-align: right;\n",
       "    }\n",
       "</style>\n",
       "<table border=\"1\" class=\"dataframe\">\n",
       "  <thead>\n",
       "    <tr style=\"text-align: right;\">\n",
       "      <th></th>\n",
       "      <th>bidopen</th>\n",
       "      <th>bidclose</th>\n",
       "      <th>bidhigh</th>\n",
       "      <th>bidlow</th>\n",
       "    </tr>\n",
       "    <tr>\n",
       "      <th>date</th>\n",
       "      <th></th>\n",
       "      <th></th>\n",
       "      <th></th>\n",
       "      <th></th>\n",
       "    </tr>\n",
       "  </thead>\n",
       "  <tbody>\n",
       "    <tr>\n",
       "      <th>2019-12-13 22:00:00</th>\n",
       "      <td>109.284</td>\n",
       "      <td>109.311</td>\n",
       "      <td>109.701</td>\n",
       "      <td>108.916</td>\n",
       "    </tr>\n",
       "    <tr>\n",
       "      <th>2019-12-15 22:00:00</th>\n",
       "      <td>109.311</td>\n",
       "      <td>109.271</td>\n",
       "      <td>109.299</td>\n",
       "      <td>109.252</td>\n",
       "    </tr>\n",
       "    <tr>\n",
       "      <th>2019-12-16 22:00:00</th>\n",
       "      <td>109.271</td>\n",
       "      <td>109.536</td>\n",
       "      <td>109.670</td>\n",
       "      <td>109.241</td>\n",
       "    </tr>\n",
       "    <tr>\n",
       "      <th>2019-12-17 22:00:00</th>\n",
       "      <td>109.536</td>\n",
       "      <td>109.470</td>\n",
       "      <td>109.628</td>\n",
       "      <td>109.438</td>\n",
       "    </tr>\n",
       "    <tr>\n",
       "      <th>2019-12-18 22:00:00</th>\n",
       "      <td>109.470</td>\n",
       "      <td>109.535</td>\n",
       "      <td>109.621</td>\n",
       "      <td>109.394</td>\n",
       "    </tr>\n",
       "    <tr>\n",
       "      <th>2019-12-19 22:00:00</th>\n",
       "      <td>109.535</td>\n",
       "      <td>109.358</td>\n",
       "      <td>109.679</td>\n",
       "      <td>109.175</td>\n",
       "    </tr>\n",
       "    <tr>\n",
       "      <th>2019-12-22 22:00:00</th>\n",
       "      <td>109.413</td>\n",
       "      <td>109.400</td>\n",
       "      <td>109.433</td>\n",
       "      <td>109.380</td>\n",
       "    </tr>\n",
       "    <tr>\n",
       "      <th>2019-12-23 22:00:00</th>\n",
       "      <td>109.400</td>\n",
       "      <td>109.388</td>\n",
       "      <td>109.532</td>\n",
       "      <td>109.333</td>\n",
       "    </tr>\n",
       "    <tr>\n",
       "      <th>2019-12-24 22:00:00</th>\n",
       "      <td>109.388</td>\n",
       "      <td>109.347</td>\n",
       "      <td>109.434</td>\n",
       "      <td>109.319</td>\n",
       "    </tr>\n",
       "    <tr>\n",
       "      <th>2019-12-26 22:00:00</th>\n",
       "      <td>109.348</td>\n",
       "      <td>109.618</td>\n",
       "      <td>109.677</td>\n",
       "      <td>109.348</td>\n",
       "    </tr>\n",
       "  </tbody>\n",
       "</table>\n",
       "</div>"
      ],
      "text/plain": [
       "                     bidopen  bidclose  bidhigh   bidlow\n",
       "date                                                    \n",
       "2019-12-13 22:00:00  109.284   109.311  109.701  108.916\n",
       "2019-12-15 22:00:00  109.311   109.271  109.299  109.252\n",
       "2019-12-16 22:00:00  109.271   109.536  109.670  109.241\n",
       "2019-12-17 22:00:00  109.536   109.470  109.628  109.438\n",
       "2019-12-18 22:00:00  109.470   109.535  109.621  109.394\n",
       "2019-12-19 22:00:00  109.535   109.358  109.679  109.175\n",
       "2019-12-22 22:00:00  109.413   109.400  109.433  109.380\n",
       "2019-12-23 22:00:00  109.400   109.388  109.532  109.333\n",
       "2019-12-24 22:00:00  109.388   109.347  109.434  109.319\n",
       "2019-12-26 22:00:00  109.348   109.618  109.677  109.348"
      ]
     },
     "execution_count": 8,
     "metadata": {},
     "output_type": "execute_result"
    }
   ],
   "source": [
    "\"\"\" Recupera los 10 precios más recientes al final del día. \"\"\"\n",
    "candles[candles.columns[:4]]"
   ]
  },
  {
   "cell_type": "code",
   "execution_count": 9,
   "metadata": {},
   "outputs": [
    {
     "data": {
      "text/html": [
       "<div>\n",
       "<style scoped>\n",
       "    .dataframe tbody tr th:only-of-type {\n",
       "        vertical-align: middle;\n",
       "    }\n",
       "\n",
       "    .dataframe tbody tr th {\n",
       "        vertical-align: top;\n",
       "    }\n",
       "\n",
       "    .dataframe thead th {\n",
       "        text-align: right;\n",
       "    }\n",
       "</style>\n",
       "<table border=\"1\" class=\"dataframe\">\n",
       "  <thead>\n",
       "    <tr style=\"text-align: right;\">\n",
       "      <th></th>\n",
       "      <th>askopen</th>\n",
       "      <th>askclose</th>\n",
       "      <th>askhigh</th>\n",
       "      <th>asklow</th>\n",
       "      <th>tickqty</th>\n",
       "    </tr>\n",
       "    <tr>\n",
       "      <th>date</th>\n",
       "      <th></th>\n",
       "      <th></th>\n",
       "      <th></th>\n",
       "      <th></th>\n",
       "      <th></th>\n",
       "    </tr>\n",
       "  </thead>\n",
       "  <tbody>\n",
       "    <tr>\n",
       "      <th>2019-12-13 22:00:00</th>\n",
       "      <td>109.333</td>\n",
       "      <td>109.358</td>\n",
       "      <td>109.712</td>\n",
       "      <td>108.990</td>\n",
       "      <td>300452</td>\n",
       "    </tr>\n",
       "    <tr>\n",
       "      <th>2019-12-15 22:00:00</th>\n",
       "      <td>109.358</td>\n",
       "      <td>109.297</td>\n",
       "      <td>109.376</td>\n",
       "      <td>109.285</td>\n",
       "      <td>133</td>\n",
       "    </tr>\n",
       "    <tr>\n",
       "      <th>2019-12-16 22:00:00</th>\n",
       "      <td>109.297</td>\n",
       "      <td>109.558</td>\n",
       "      <td>109.682</td>\n",
       "      <td>109.303</td>\n",
       "      <td>125336</td>\n",
       "    </tr>\n",
       "    <tr>\n",
       "      <th>2019-12-17 22:00:00</th>\n",
       "      <td>109.558</td>\n",
       "      <td>109.497</td>\n",
       "      <td>109.641</td>\n",
       "      <td>109.449</td>\n",
       "      <td>110968</td>\n",
       "    </tr>\n",
       "    <tr>\n",
       "      <th>2019-12-18 22:00:00</th>\n",
       "      <td>109.497</td>\n",
       "      <td>109.580</td>\n",
       "      <td>109.635</td>\n",
       "      <td>109.406</td>\n",
       "      <td>113143</td>\n",
       "    </tr>\n",
       "    <tr>\n",
       "      <th>2019-12-19 22:00:00</th>\n",
       "      <td>109.580</td>\n",
       "      <td>109.379</td>\n",
       "      <td>109.691</td>\n",
       "      <td>109.188</td>\n",
       "      <td>125485</td>\n",
       "    </tr>\n",
       "    <tr>\n",
       "      <th>2019-12-22 22:00:00</th>\n",
       "      <td>109.474</td>\n",
       "      <td>109.457</td>\n",
       "      <td>109.474</td>\n",
       "      <td>109.457</td>\n",
       "      <td>64</td>\n",
       "    </tr>\n",
       "    <tr>\n",
       "      <th>2019-12-23 22:00:00</th>\n",
       "      <td>109.458</td>\n",
       "      <td>109.429</td>\n",
       "      <td>109.545</td>\n",
       "      <td>109.345</td>\n",
       "      <td>111575</td>\n",
       "    </tr>\n",
       "    <tr>\n",
       "      <th>2019-12-24 22:00:00</th>\n",
       "      <td>109.429</td>\n",
       "      <td>109.408</td>\n",
       "      <td>109.448</td>\n",
       "      <td>109.332</td>\n",
       "      <td>98336</td>\n",
       "    </tr>\n",
       "    <tr>\n",
       "      <th>2019-12-26 22:00:00</th>\n",
       "      <td>109.408</td>\n",
       "      <td>109.651</td>\n",
       "      <td>109.690</td>\n",
       "      <td>109.408</td>\n",
       "      <td>57708</td>\n",
       "    </tr>\n",
       "  </tbody>\n",
       "</table>\n",
       "</div>"
      ],
      "text/plain": [
       "                     askopen  askclose  askhigh   asklow  tickqty\n",
       "date                                                             \n",
       "2019-12-13 22:00:00  109.333   109.358  109.712  108.990   300452\n",
       "2019-12-15 22:00:00  109.358   109.297  109.376  109.285      133\n",
       "2019-12-16 22:00:00  109.297   109.558  109.682  109.303   125336\n",
       "2019-12-17 22:00:00  109.558   109.497  109.641  109.449   110968\n",
       "2019-12-18 22:00:00  109.497   109.580  109.635  109.406   113143\n",
       "2019-12-19 22:00:00  109.580   109.379  109.691  109.188   125485\n",
       "2019-12-22 22:00:00  109.474   109.457  109.474  109.457       64\n",
       "2019-12-23 22:00:00  109.458   109.429  109.545  109.345   111575\n",
       "2019-12-24 22:00:00  109.429   109.408  109.448  109.332    98336\n",
       "2019-12-26 22:00:00  109.408   109.651  109.690  109.408    57708"
      ]
     },
     "execution_count": 9,
     "metadata": {},
     "output_type": "execute_result"
    }
   ],
   "source": [
    "\"\"\" Recupera los 10 precios más recientes al final del día. \"\"\"\n",
    "candles[candles.columns[4:]]"
   ]
  },
  {
   "cell_type": "code",
   "execution_count": 13,
   "metadata": {},
   "outputs": [
    {
     "name": "stdout",
     "output_type": "stream",
     "text": [
      "<class 'pandas.core.frame.DataFrame'>\n",
      "DatetimeIndex: 309 entries, 2017-01-03 22:00:00 to 2018-01-01 22:00:00\n",
      "Data columns (total 9 columns):\n",
      "bidopen     309 non-null float64\n",
      "bidclose    309 non-null float64\n",
      "bidhigh     309 non-null float64\n",
      "bidlow      309 non-null float64\n",
      "askopen     309 non-null float64\n",
      "askclose    309 non-null float64\n",
      "askhigh     309 non-null float64\n",
      "asklow      309 non-null float64\n",
      "tickqty     309 non-null int64\n",
      "dtypes: float64(8), int64(1)\n",
      "memory usage: 24.1 KB\n"
     ]
    }
   ],
   "source": [
    "\"\"\" Recupera los precios al final del día durante todo un año. \"\"\"\n",
    "start = dt.datetime(2017,1,1)\n",
    "end = dt.datetime(2018,1,1)\n",
    "\n",
    "candles = api.get_candles('EUR/GBP',period='D1',start=start,stop=end)\n",
    "\n",
    "candles.info()"
   ]
  },
  {
   "cell_type": "code",
   "execution_count": 14,
   "metadata": {},
   "outputs": [
    {
     "data": {
      "text/plain": [
       "<matplotlib.axes._subplots.AxesSubplot at 0x5ba5148>"
      ]
     },
     "execution_count": 14,
     "metadata": {},
     "output_type": "execute_result"
    },
    {
     "data": {
      "image/png": "[encoded data removed]",
      "text/plain": [
       "<Figure size 720x432 with 1 Axes>"
      ]
     },
     "metadata": {
      "needs_background": "light"
     },
     "output_type": "display_data"
    }
   ],
   "source": [
    "\"\"\" Recupera los precios de barra de un minuto más recientes disponibles. \"\"\"\n",
    "candles = api.get_candles('EUR/USD',period='m1',number=250)\n",
    "candles['askclose'].plot(figsize=(10,6))"
   ]
  }
 ],
 "metadata": {
  "kernelspec": {
   "display_name": "Python 3",
   "language": "python",
   "name": "python3"
  },
  "language_info": {
   "codemirror_mode": {
    "name": "ipython",
    "version": 3
   },
   "file_extension": ".py",
   "mimetype": "text/x-python",
   "name": "python",
   "nbconvert_exporter": "python",
   "pygments_lexer": "ipython3",
   "version": "3.8.1"
  }
 },
 "nbformat": 4,
 "nbformat_minor": 2
}
