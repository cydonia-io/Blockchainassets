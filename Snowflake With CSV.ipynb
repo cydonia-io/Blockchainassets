{
 "cells": [
  {
   "cell_type": "code",
   "execution_count": 45,
   "metadata": {
    "ExecuteTime": {
     "end_time": "2020-01-04T02:15:43.082873Z",
     "start_time": "2020-01-04T02:15:43.067247Z"
    }
   },
   "outputs": [],
   "source": [
    "#Importamos los conectores para Snowflake\n",
    "import snowflake.connector as sf\n",
    "from snowflake.connector import DictCursor\n",
    "import pandas as pd \n"
   ]
  },
  {
   "cell_type": "code",
   "execution_count": 46,
   "metadata": {
    "ExecuteTime": {
     "end_time": "2020-01-04T02:15:44.598451Z",
     "start_time": "2020-01-04T02:15:44.567204Z"
    }
   },
   "outputs": [],
   "source": [
    "#Conexion a Snowflake \n",
    "username   = 'Blockchainassets'\n",
    "mypassword = 'BonneNouvelle2020'\n",
    "myaccount  = 'iw74759.eu-central-1'\n",
    "warehouse  = 'COMPUTE_WH'\n",
    "database   = 'DEMO_DB'\n",
    "\n",
    "conn = sf.connect(user=username, password = mypassword, account = myaccount)\n",
    "#Función que permite realizar la conexion a la nube de Snowflake y realizar procedimientos sql\n",
    "def execute_query(connection, query):\n",
    "    cursor = connection.cursor()\n",
    "    cursor.execute(query)\n",
    "    cursor.close()\n",
    "    \n",
    "#Conexión al WareHouse y el nombre de la Base de Datos a usar\n",
    "try:\n",
    "    sql = 'use {}'.format(database)\n",
    "    execute_query(conn,sql)\n",
    "    \n",
    "    sql = 'use warehouse {}'.format(warehouse)\n",
    "    execute_query(conn,sql)\n",
    "    \n",
    "    try:   \n",
    "        sql = 'alter warehouse {} resume'.format(warehouse)\n",
    "        execute_query(conn,sql)\n",
    "    except: \n",
    "        pass\n",
    "except Exception as e:\n",
    "    print(e)\n"
   ]
  },
  {
   "cell_type": "code",
   "execution_count": null,
   "metadata": {
    "ExecuteTime": {
     "end_time": "2020-01-04T00:29:23.678461Z",
     "start_time": "2020-01-04T00:29:23.595515Z"
    }
   },
   "outputs": [],
   "source": [
    "#Extraemos datos del archivo CSV \n",
    "raw = pd.read_csv('10Y-us-rate-data.csv')\n",
    "raw.DGS10 = pd.to_numeric(raw.DGS10,errors ='coerce')"
   ]
  },
  {
   "cell_type": "code",
   "execution_count": null,
   "metadata": {
    "ExecuteTime": {
     "end_time": "2020-01-04T00:39:04.450707Z",
     "start_time": "2020-01-04T00:38:27.898607Z"
    }
   },
   "outputs": [],
   "source": [
    "#Insertar datos\n",
    "try:\n",
    "    #--- Comienza una función para encapsular los procesos de insertar\n",
    "    def function_insert():\n",
    "        #Comienza la transacción\n",
    "        startbeging = \"begin name t4;\"\n",
    "        #Ejecutamos el Begin antes de realizar los insert into\n",
    "        execute_query(conn, startbeging)\n",
    "        \n",
    "        #--- Comienza For (Ciclo para insertar 50 registros)\n",
    "        #Iterar nuestro archivo csv  - insertando 50 registros. \n",
    "        for index in range(50):\n",
    "            sqldate  = raw['DATE'].loc[index]\n",
    "            sqldgs10 = raw['DGS10'].loc[index]\n",
    "            sql = \"insert into US_RATE_DATA (DATE, DGS10) values ('{}','{}')\".format(sqldate, sqldgs10)\n",
    "            execute_query(conn, sql) \n",
    "        #--- Termina el FOR\n",
    "        \n",
    "        #Al terminar todo los insert ejecutamos el Commit para finalizar la transacción\n",
    "        commit = \"commit;\"\n",
    "        execute_query(conn,commit)\n",
    "        print(\"Operación Exitosa\")\n",
    "    #--- Termina la función_insert \n",
    "    \n",
    "    #Se ejecuta la función y realiza el proceso\n",
    "    function_insert()\n",
    "except:\n",
    "    #En caso de una incidencia/riesgo se ejecuta el Rollback y se ejecutará de nuevo la función_insert\n",
    "    rollback = \"rollback;\"\n",
    "    execute_query(conn, rollback)\n",
    "    print(\"Error, Operación Cancelada / Rollback / Se ejecutara de nuevo\")\n",
    "    function_insert()\n"
   ]
  },
  {
   "cell_type": "code",
   "execution_count": null,
   "metadata": {
    "ExecuteTime": {
     "end_time": "2020-01-04T01:09:30.487085Z",
     "start_time": "2020-01-04T01:09:29.865207Z"
    }
   },
   "outputs": [],
   "source": [
    "#Realizar una consulta SQL y convertilo en DataFrame\n",
    "try:\n",
    "    sql = \"select count(*) as Total_Registros from US_RATE_DATA\"\n",
    "    cursor = conn.cursor()\n",
    "    cursor.execute(sql)\n",
    " \n",
    "    for c in cursor: \n",
    "        print(c)\n",
    "    cursor.close()\n",
    "    #Convertir la consulta en dataframe para manipular sus datos\n",
    "    #df = pd.read_sql(sql, conn)\n",
    "    #print(df.iloc[0,0])\n",
    "    #df.info()\n",
    "    #print(df.head())\n",
    "    #print(df.count())\n",
    "except Exception as e:\n",
    "    print(e)"
   ]
  },
  {
   "cell_type": "code",
   "execution_count": null,
   "metadata": {},
   "outputs": [],
   "source": []
  }
 ],
 "metadata": {
  "kernelspec": {
   "display_name": "Python 3",
   "language": "python",
   "name": "python3"
  },
  "language_info": {
   "codemirror_mode": {
    "name": "ipython",
    "version": 3
   },
   "file_extension": ".py",
   "mimetype": "text/x-python",
   "name": "python",
   "nbconvert_exporter": "python",
   "pygments_lexer": "ipython3",
   "version": "3.8.1"
  }
 },
 "nbformat": 4,
 "nbformat_minor": 2
}
